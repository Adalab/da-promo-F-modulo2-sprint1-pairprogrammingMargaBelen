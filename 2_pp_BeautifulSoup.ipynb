{
 "cells": [
  {
   "cell_type": "code",
   "execution_count": 130,
   "metadata": {},
   "outputs": [],
   "source": [
    "import requests\n",
    "import pandas as pd\n",
    "import re\n",
    "from bs4 import BeautifulSoup\n"
   ]
  },
  {
   "cell_type": "code",
   "execution_count": 131,
   "metadata": {},
   "outputs": [],
   "source": [
    "url = \"https://www.ocasionplus.com/coches-ocasion?type%3DCAR%26sort%3DFECHAOP_DESC%26page%3D2\""
   ]
  },
  {
   "cell_type": "code",
   "execution_count": 132,
   "metadata": {},
   "outputs": [
    {
     "data": {
      "text/plain": [
       "<Response [200]>"
      ]
     },
     "execution_count": 132,
     "metadata": {},
     "output_type": "execute_result"
    }
   ],
   "source": [
    "llamada = requests.get(url)  \n",
    "llamada"
   ]
  },
  {
   "cell_type": "code",
   "execution_count": 133,
   "metadata": {},
   "outputs": [],
   "source": [
    "res_coches = requests.get(url)"
   ]
  },
  {
   "cell_type": "code",
   "execution_count": 134,
   "metadata": {},
   "outputs": [],
   "source": [
    "sopa_coches = BeautifulSoup(res_coches.content, \"html.parser\")\n"
   ]
  },
  {
   "cell_type": "code",
   "execution_count": 135,
   "metadata": {},
   "outputs": [],
   "source": [
    "# lista_nombres_coche = sopa_coches.find_all(\"h2\")[1:]\n",
    "\n",
    "# lista_nombres_coche[:3]"
   ]
  },
  {
   "cell_type": "code",
   "execution_count": 136,
   "metadata": {},
   "outputs": [],
   "source": [
    "#COLUMNA NOMBRES \n",
    "\n",
    "# lista_nombre_coches_2 = []\n",
    "\n",
    "# for nombre in lista_nombres_coche:\n",
    "#     lista_nombre_coches_2.append(nombre.getText())\n",
    "    \n",
    "\n",
    "# lista_nombre_coches_2"
   ]
  },
  {
   "cell_type": "code",
   "execution_count": 137,
   "metadata": {},
   "outputs": [],
   "source": [
    "#PRECIO ORIGINAL \n",
    "\n",
    "# lista_precio_original = sopa_coches.find_all(\"span\", {\"class\": \"jsx-2870186023 priceLast\"})\n",
    "# lista_precio_original[:4]"
   ]
  },
  {
   "cell_type": "code",
   "execution_count": 138,
   "metadata": {},
   "outputs": [],
   "source": [
    "# precios_originales = []\n",
    "\n",
    "# for precio in lista_precio_original:\n",
    "#      precios_originales.append(precio.text)\n",
    "\n",
    "\n",
    "# precios_originales[:4]"
   ]
  },
  {
   "cell_type": "code",
   "execution_count": 139,
   "metadata": {},
   "outputs": [],
   "source": [
    "#PRECIO REBAJADO \n",
    "\n",
    "# lista_precio_rebajado = sopa_coches.find_all(\"span\", {\"class\": \"jsx-2689423372 price\"})\n",
    "# lista_precio_rebajado[:4]"
   ]
  },
  {
   "cell_type": "code",
   "execution_count": 140,
   "metadata": {},
   "outputs": [],
   "source": [
    "# precios_rebajados = []\n",
    "\n",
    "# for precio in lista_precio_rebajado:\n",
    "#      precios_rebajados.append(precio.text)\n",
    "\n",
    "\n",
    "# precios_rebajados[:4]"
   ]
  },
  {
   "cell_type": "markdown",
   "metadata": {},
   "source": [
    "#MONTAMOS LA ESTUCTURA\n",
    "- Coche\n",
    "- Precio rebajado\n",
    "- Precio original\n",
    "- Kilómetros\n"
   ]
  },
  {
   "cell_type": "code",
   "execution_count": 141,
   "metadata": {},
   "outputs": [],
   "source": [
    "#INFO QUE EXTRAEMOS DE LA WEB \n",
    "def scrape_coches_ocasion(url):\n",
    "    res_coches = requests.get(url)\n",
    "    print(f\"La respuesta a tu petición ha sido de {res_coches.status_code}\")\n",
    "    sopa_coches = BeautifulSoup(res_coches.content, \"html.parser\")\n",
    "\n",
    "\n",
    "    #Nombre\n",
    "    lista_nombres_coche = sopa_coches.find_all(\"h2\", {\"style\": \"overflow-x:hidden\"})\n",
    "    lista_nombre_coches_2 = []\n",
    "    for nombre in lista_nombres_coche:\n",
    "        lista_nombre_coches_2.append(nombre.getText())\n",
    "    \n",
    "\n",
    "    #Precio original + Precio Rebajado \n",
    "\n",
    "    lista_precios_all = sopa_coches.find_all(\"div\", {\"class\": \"jsx-689670945 priceContainer\"})\n",
    "    precios_originales = []\n",
    "    precios_rebajados = []\n",
    "\n",
    "    for precio in lista_precios_all:\n",
    "        precio_text = precio.text\n",
    "        precio_parts = precio_text.split(\"€\")\n",
    "        \n",
    "        if len(precio_parts) == 3:\n",
    "            precio_original = precio_parts[0].strip()\n",
    "            precio_descuento = precio_parts[1].strip()\n",
    "            precios_originales.append(precio_original)\n",
    "            precios_rebajados.append(precio_descuento)\n",
    "        elif len(precio_parts) == 2:\n",
    "            precio_original = precio_parts[0].strip()\n",
    "            precios_originales.append(precio_original)\n",
    "            precios_rebajados.append(\"None\")\n",
    "\n",
    "        \n",
    "    #Kilometros\n",
    "    extraccion_kms = sopa_coches.find_all(\"span\", {\"class\": \"jsx-3960002075 detail big\"})\n",
    "    lista_kms_coche = []\n",
    "    for elemento in extraccion_kms:\n",
    "        text = elemento.getText()\n",
    "        if \"km\" in text:\n",
    "            lista_kms_coche.append(text)\n",
    "\n",
    "    #Creamos diccionario donde guardaremos las listas con la informacion: \n",
    "    diccionario_coches = {\"Coche\": [], \"Precio Rebajado\": [], \"Precio Original\": [], \"Kilómetros\": []}\n",
    "\n",
    "    diccionario_coches[\"Coche\"] = lista_nombre_coches_2\n",
    "    diccionario_coches[\"Precio Rebajado\"] = precios_rebajados\n",
    "    diccionario_coches[\"Precio Original\"]= precios_originales\n",
    "    diccionario_coches[\"Kilómetros\"] = lista_kms_coche\n",
    "    \n",
    "\n",
    "    df_coches = pd.DataFrame(diccionario_coches)\n",
    "            \n",
    "    return df_coches\n"
   ]
  },
  {
   "cell_type": "code",
   "execution_count": 142,
   "metadata": {},
   "outputs": [
    {
     "name": "stdout",
     "output_type": "stream",
     "text": [
      "La respuesta a tu petición ha sido de 200\n"
     ]
    },
    {
     "data": {
      "text/html": [
       "<div>\n",
       "<style scoped>\n",
       "    .dataframe tbody tr th:only-of-type {\n",
       "        vertical-align: middle;\n",
       "    }\n",
       "\n",
       "    .dataframe tbody tr th {\n",
       "        vertical-align: top;\n",
       "    }\n",
       "\n",
       "    .dataframe thead th {\n",
       "        text-align: right;\n",
       "    }\n",
       "</style>\n",
       "<table border=\"1\" class=\"dataframe\">\n",
       "  <thead>\n",
       "    <tr style=\"text-align: right;\">\n",
       "      <th></th>\n",
       "      <th>Coche</th>\n",
       "      <th>Precio Rebajado</th>\n",
       "      <th>Precio Original</th>\n",
       "      <th>Kilómetros</th>\n",
       "    </tr>\n",
       "  </thead>\n",
       "  <tbody>\n",
       "    <tr>\n",
       "      <th>0</th>\n",
       "      <td>Chevrolet Aveo 1.4 16v LT AUTO (101 CV)</td>\n",
       "      <td>None</td>\n",
       "      <td>5.450</td>\n",
       "      <td>110.475 km</td>\n",
       "    </tr>\n",
       "    <tr>\n",
       "      <th>1</th>\n",
       "      <td>BMW Serie 3 320d Auto (184 CV)</td>\n",
       "      <td>None</td>\n",
       "      <td>18.300</td>\n",
       "      <td>128.100 km</td>\n",
       "    </tr>\n",
       "    <tr>\n",
       "      <th>2</th>\n",
       "      <td>Citroen C-Elysee PureTech 82 Shine (82 CV)</td>\n",
       "      <td>11.227</td>\n",
       "      <td>12.350</td>\n",
       "      <td>14.925 km</td>\n",
       "    </tr>\n",
       "    <tr>\n",
       "      <th>3</th>\n",
       "      <td>Smart ForFour ForFour 1.0 (71 CV)</td>\n",
       "      <td>10.181</td>\n",
       "      <td>11.200</td>\n",
       "      <td>66.933 km</td>\n",
       "    </tr>\n",
       "    <tr>\n",
       "      <th>4</th>\n",
       "      <td>Peugeot 2008 SUV SUV PureTech 130 S&amp;S Allure (...</td>\n",
       "      <td>11.454</td>\n",
       "      <td>12.700</td>\n",
       "      <td>131.603 km</td>\n",
       "    </tr>\n",
       "    <tr>\n",
       "      <th>5</th>\n",
       "      <td>Toyota Yaris 1.0 Active (72 CV)</td>\n",
       "      <td>11.090</td>\n",
       "      <td>12.350</td>\n",
       "      <td>81.009 km</td>\n",
       "    </tr>\n",
       "    <tr>\n",
       "      <th>6</th>\n",
       "      <td>Renault Captur Limited TCe (130 CV) GPF</td>\n",
       "      <td>12.545</td>\n",
       "      <td>13.800</td>\n",
       "      <td>109.395 km</td>\n",
       "    </tr>\n",
       "    <tr>\n",
       "      <th>7</th>\n",
       "      <td>SEAT Leon 1.5 eTSI S&amp;S FR DSG (150 CV)</td>\n",
       "      <td>22.718</td>\n",
       "      <td>24.990</td>\n",
       "      <td>27.566 km</td>\n",
       "    </tr>\n",
       "    <tr>\n",
       "      <th>8</th>\n",
       "      <td>BMW X1 sDrive18d 2.0 (150 CV)</td>\n",
       "      <td>17.400</td>\n",
       "      <td>18.450</td>\n",
       "      <td>140.870 km</td>\n",
       "    </tr>\n",
       "    <tr>\n",
       "      <th>9</th>\n",
       "      <td>Ford S-Max 2.0 TDCI Titanium PowerShift AUTO (...</td>\n",
       "      <td>None</td>\n",
       "      <td>15.400</td>\n",
       "      <td>171.644 km</td>\n",
       "    </tr>\n",
       "    <tr>\n",
       "      <th>10</th>\n",
       "      <td>Peugeot 2008 SUV 1.2 S&amp;S Signature (130 CV)</td>\n",
       "      <td>14.318</td>\n",
       "      <td>16.750</td>\n",
       "      <td>52.540 km</td>\n",
       "    </tr>\n",
       "    <tr>\n",
       "      <th>11</th>\n",
       "      <td>SEAT Leon SEAT Leon 1.0 EcoTSI S&amp;S Style Visio...</td>\n",
       "      <td>17.090</td>\n",
       "      <td>18.800</td>\n",
       "      <td>42.122 km</td>\n",
       "    </tr>\n",
       "    <tr>\n",
       "      <th>12</th>\n",
       "      <td>Renault Captur dCi (90 CV)</td>\n",
       "      <td>13.990</td>\n",
       "      <td>15.390</td>\n",
       "      <td>76.106 km</td>\n",
       "    </tr>\n",
       "    <tr>\n",
       "      <th>13</th>\n",
       "      <td>Kia Ceed 1.0 T-GDi Concept(120 CV)</td>\n",
       "      <td>14.727</td>\n",
       "      <td>16.200</td>\n",
       "      <td>98.980 km</td>\n",
       "    </tr>\n",
       "    <tr>\n",
       "      <th>14</th>\n",
       "      <td>Autocaravana Benimar Ford Transit Capuchina 35...</td>\n",
       "      <td>55.000</td>\n",
       "      <td>60.500</td>\n",
       "      <td>30.246 km</td>\n",
       "    </tr>\n",
       "    <tr>\n",
       "      <th>15</th>\n",
       "      <td>Citroen C3 PureTech 82 Feel (83 CV)</td>\n",
       "      <td>9.818</td>\n",
       "      <td>10.800</td>\n",
       "      <td>65.102 km</td>\n",
       "    </tr>\n",
       "    <tr>\n",
       "      <th>16</th>\n",
       "      <td>Citroen C4 Cactus PureTech S&amp;S Shine EAT6 (110...</td>\n",
       "      <td>14.773</td>\n",
       "      <td>16.250</td>\n",
       "      <td>45.418 km</td>\n",
       "    </tr>\n",
       "    <tr>\n",
       "      <th>17</th>\n",
       "      <td>Citroen Spacetourer BlueHDi 150 Talla M Busine...</td>\n",
       "      <td>26.818</td>\n",
       "      <td>29.500</td>\n",
       "      <td>108.542 km</td>\n",
       "    </tr>\n",
       "    <tr>\n",
       "      <th>18</th>\n",
       "      <td>Nissan Qashqai DIG-T 140 N-Connecta 4x2 (140 CV)</td>\n",
       "      <td>21.727</td>\n",
       "      <td>23.900</td>\n",
       "      <td>9.233 km</td>\n",
       "    </tr>\n",
       "    <tr>\n",
       "      <th>19</th>\n",
       "      <td>Mercedes-Benz Clase CLA CLA 200 (163 CV)</td>\n",
       "      <td>31.172</td>\n",
       "      <td>34.290</td>\n",
       "      <td>37.430 km</td>\n",
       "    </tr>\n",
       "  </tbody>\n",
       "</table>\n",
       "</div>"
      ],
      "text/plain": [
       "                                                Coche Precio Rebajado  \\\n",
       "0             Chevrolet Aveo 1.4 16v LT AUTO (101 CV)            None   \n",
       "1                      BMW Serie 3 320d Auto (184 CV)            None   \n",
       "2          Citroen C-Elysee PureTech 82 Shine (82 CV)          11.227   \n",
       "3                   Smart ForFour ForFour 1.0 (71 CV)          10.181   \n",
       "4   Peugeot 2008 SUV SUV PureTech 130 S&S Allure (...          11.454   \n",
       "5                     Toyota Yaris 1.0 Active (72 CV)          11.090   \n",
       "6             Renault Captur Limited TCe (130 CV) GPF          12.545   \n",
       "7              SEAT Leon 1.5 eTSI S&S FR DSG (150 CV)          22.718   \n",
       "8                       BMW X1 sDrive18d 2.0 (150 CV)          17.400   \n",
       "9   Ford S-Max 2.0 TDCI Titanium PowerShift AUTO (...            None   \n",
       "10        Peugeot 2008 SUV 1.2 S&S Signature (130 CV)          14.318   \n",
       "11  SEAT Leon SEAT Leon 1.0 EcoTSI S&S Style Visio...          17.090   \n",
       "12                         Renault Captur dCi (90 CV)          13.990   \n",
       "13                 Kia Ceed 1.0 T-GDi Concept(120 CV)          14.727   \n",
       "14  Autocaravana Benimar Ford Transit Capuchina 35...          55.000   \n",
       "15                Citroen C3 PureTech 82 Feel (83 CV)           9.818   \n",
       "16  Citroen C4 Cactus PureTech S&S Shine EAT6 (110...          14.773   \n",
       "17  Citroen Spacetourer BlueHDi 150 Talla M Busine...          26.818   \n",
       "18   Nissan Qashqai DIG-T 140 N-Connecta 4x2 (140 CV)          21.727   \n",
       "19           Mercedes-Benz Clase CLA CLA 200 (163 CV)          31.172   \n",
       "\n",
       "   Precio Original  Kilómetros  \n",
       "0            5.450  110.475 km  \n",
       "1           18.300  128.100 km  \n",
       "2           12.350   14.925 km  \n",
       "3           11.200   66.933 km  \n",
       "4           12.700  131.603 km  \n",
       "5           12.350   81.009 km  \n",
       "6           13.800  109.395 km  \n",
       "7           24.990   27.566 km  \n",
       "8           18.450  140.870 km  \n",
       "9           15.400  171.644 km  \n",
       "10          16.750   52.540 km  \n",
       "11          18.800   42.122 km  \n",
       "12          15.390   76.106 km  \n",
       "13          16.200   98.980 km  \n",
       "14          60.500   30.246 km  \n",
       "15          10.800   65.102 km  \n",
       "16          16.250   45.418 km  \n",
       "17          29.500  108.542 km  \n",
       "18          23.900    9.233 km  \n",
       "19          34.290   37.430 km  "
      ]
     },
     "execution_count": 142,
     "metadata": {},
     "output_type": "execute_result"
    }
   ],
   "source": [
    "scrape_coches_ocasion(\"https://www.ocasionplus.com/coches-ocasion?type%3DCAR%26sort%3DFECHAOP_DESC%26page%3D2\")"
   ]
  },
  {
   "cell_type": "code",
   "execution_count": 143,
   "metadata": {},
   "outputs": [
    {
     "ename": "NameError",
     "evalue": "name 'diccionario_coches' is not defined",
     "output_type": "error",
     "traceback": [
      "\u001b[0;31m---------------------------------------------------------------------------\u001b[0m",
      "\u001b[0;31mNameError\u001b[0m                                 Traceback (most recent call last)",
      "\u001b[1;32m/Users/margaritaobrador/Adalab/Module-2/pp-module2/da-promo-F-modulo2-sprint1-pairprogrammingMargaBelen/2_pp_BeautifulSoup.ipynb Cell 15\u001b[0m line \u001b[0;36m1\n\u001b[0;32m----> <a href='vscode-notebook-cell:/Users/margaritaobrador/Adalab/Module-2/pp-module2/da-promo-F-modulo2-sprint1-pairprogrammingMargaBelen/2_pp_BeautifulSoup.ipynb#X34sZmlsZQ%3D%3D?line=0'>1</a>\u001b[0m df_coches \u001b[39m=\u001b[39m pd\u001b[39m.\u001b[39mDataFrame(diccionario_coches)\n",
      "\u001b[0;31mNameError\u001b[0m: name 'diccionario_coches' is not defined"
     ]
    }
   ],
   "source": [
    "df_coches = pd.DataFrame(diccionario_coches)"
   ]
  },
  {
   "cell_type": "code",
   "execution_count": null,
   "metadata": {},
   "outputs": [],
   "source": [
    "# lista_precios_all = sopa_coches.find_all(\"div\", {\"class\": \"jsx-689670945 priceContainer\"})\n",
    "# precios_originales = []\n",
    "# precios_rebajados = []\n",
    "\n",
    "# for precio in lista_precios_all:\n",
    "\n",
    "#     if len(lista_precios_all[0].text.split(\"€\")[:3]) == 3: \n",
    "#         precio_0 = precio.text.split(\"€\")[0].strip()\n",
    "#         precios_originales.append(precio_0)\n",
    "#         precio_1 = precio.text.split(\"€\")[1].strip()\n",
    "#         precios_rebajados.append(precio_1)\n",
    "#     elif len(lista_precios_all[0].text.split(\"€\")[:3]) == 2:\n",
    "#         precio_0 = precio.text.split(\"€\")[0].strip()\n",
    "#         precios_originales.append(precio_0)\n",
    "#         precio_1 = precio.text.split(\"€\")[0].strip()\n",
    "#         precios_rebajados.append(\"none\")"
   ]
  },
  {
   "cell_type": "code",
   "execution_count": null,
   "metadata": {},
   "outputs": [],
   "source": [
    "# lista_precios_all = sopa_coches.find_all(\"div\", {\"class\": \"jsx-689670945 priceContainer\"})\n",
    "# precios_originales = []\n",
    "# precios_rebajados = []\n",
    "\n",
    "# for precio in lista_precios_all:\n",
    "#     precio_text = precio.text\n",
    "#     precio_parts = precio_text.split(\"€\")\n",
    "    \n",
    "#     if len(precio_parts) == 3:\n",
    "#         precio_original = precio_parts[0].strip()\n",
    "#         precio_descuento = precio_parts[1].strip()\n",
    "#         precios_originales.append(precio_original)\n",
    "#         precios_rebajados.append(precio_descuento)\n",
    "#     elif len(precio_parts) == 2:\n",
    "#         precio_original = precio_parts[0].strip()\n",
    "#         precios_originales.append(precio_original)\n",
    "#         precios_rebajados.append(\"None\")\n",
    "\n",
    "\n"
   ]
  },
  {
   "cell_type": "code",
   "execution_count": null,
   "metadata": {},
   "outputs": [],
   "source": [
    "#lista_precio_original[0].text.split(\"€\")[:3]"
   ]
  },
  {
   "cell_type": "code",
   "execution_count": null,
   "metadata": {},
   "outputs": [],
   "source": [
    "scrape_coches_ocasion(\"https://www.ocasionplus.com/coches-ocasion?type%3DCAR%26sort%3DFECHAOP_DESC%26page%3D2\")"
   ]
  }
 ],
 "metadata": {
  "kernelspec": {
   "display_name": "base",
   "language": "python",
   "name": "python3"
  },
  "language_info": {
   "codemirror_mode": {
    "name": "ipython",
    "version": 3
   },
   "file_extension": ".py",
   "mimetype": "text/x-python",
   "name": "python",
   "nbconvert_exporter": "python",
   "pygments_lexer": "ipython3",
   "version": "3.11.5"
  },
  "orig_nbformat": 4
 },
 "nbformat": 4,
 "nbformat_minor": 2
}
