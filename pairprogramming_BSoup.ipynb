{
 "cells": [
  {
   "cell_type": "code",
   "execution_count": 10,
   "metadata": {},
   "outputs": [],
   "source": [
    "import requests\n",
    "import pandas as pd\n",
    "import re\n",
    "from bs4 import BeautifulSoup\n"
   ]
  },
  {
   "cell_type": "code",
   "execution_count": 11,
   "metadata": {},
   "outputs": [],
   "source": [
    "#def scape_coches_ocasion(url):\n",
    "\n"
   ]
  },
  {
   "cell_type": "code",
   "execution_count": 12,
   "metadata": {},
   "outputs": [],
   "source": [
    "url = \"https://www.ocasionplus.com/coches-ocasion?type%3DCAR%26sort%3DFECHAOP_DESC%26page%3D2\""
   ]
  },
  {
   "cell_type": "code",
   "execution_count": 17,
   "metadata": {},
   "outputs": [
    {
     "data": {
      "text/plain": [
       "<Response [200]>"
      ]
     },
     "execution_count": 17,
     "metadata": {},
     "output_type": "execute_result"
    }
   ],
   "source": [
    "llamada = requests.get(url)  \n",
    "llamada"
   ]
  },
  {
   "cell_type": "code",
   "execution_count": 96,
   "metadata": {},
   "outputs": [],
   "source": [
    "res_coches = requests.get(url)"
   ]
  },
  {
   "cell_type": "code",
   "execution_count": 21,
   "metadata": {},
   "outputs": [],
   "source": [
    "sopa_coches = BeautifulSoup(res_coches.content, \"html.parser\")\n"
   ]
  },
  {
   "cell_type": "code",
   "execution_count": 69,
   "metadata": {},
   "outputs": [
    {
     "data": {
      "text/plain": [
       "[<h2 style=\"overflow-x:hidden\">Hyundai Kona 1.0 TGDi Klass 4x2 (120 CV)</h2>,\n",
       " <h2 style=\"overflow-x:hidden\">Ford Focus 1.0 Ecoboost MHEV Trend+ (125 CV)</h2>,\n",
       " <h2 style=\"overflow-x:hidden\">Hyundai i20 1.2 MPI (75CV) Essence LE</h2>]"
      ]
     },
     "execution_count": 69,
     "metadata": {},
     "output_type": "execute_result"
    }
   ],
   "source": [
    "lista_nombres_coche = sopa_coches.find_all(\"h2\")[1:]\n",
    "\n",
    "lista_nombres_coche[:3]"
   ]
  },
  {
   "cell_type": "code",
   "execution_count": 34,
   "metadata": {},
   "outputs": [
    {
     "data": {
      "text/plain": [
       "['Hyundai Kona 1.0 TGDi Klass 4x2 (120 CV)']"
      ]
     },
     "execution_count": 34,
     "metadata": {},
     "output_type": "execute_result"
    }
   ],
   "source": [
    "#COLUMNA NOMBRES \n",
    "\n",
    "lista_nombre_coches_2 = []\n",
    "\n",
    "for nombre in lista_nombres_coche:\n",
    "    lista_nombre_coches_2.append(nombre.getText())\n",
    "    break\n",
    "\n",
    "lista_nombre_coches_2"
   ]
  },
  {
   "cell_type": "code",
   "execution_count": 38,
   "metadata": {},
   "outputs": [
    {
     "data": {
      "text/plain": [
       "[<span class=\"jsx-2870186023 priceLast\">15.990<!-- -->€</span>,\n",
       " <span class=\"jsx-2870186023 priceLast\">14.990<!-- -->€</span>,\n",
       " <span class=\"jsx-2870186023 priceLast\">11.990<!-- -->€</span>,\n",
       " <span class=\"jsx-2870186023 priceLast\">16.490<!-- -->€</span>]"
      ]
     },
     "execution_count": 38,
     "metadata": {},
     "output_type": "execute_result"
    }
   ],
   "source": [
    "#PRECIO ORIGINAL \n",
    "\n",
    "lista_precio_original = sopa_coches.find_all(\"span\", {\"class\": \"jsx-2870186023 priceLast\"})\n",
    "lista_precio_original[:4]"
   ]
  },
  {
   "cell_type": "code",
   "execution_count": 70,
   "metadata": {},
   "outputs": [
    {
     "data": {
      "text/plain": [
       "['15.990€', '14.990€', '11.990€', '16.490€']"
      ]
     },
     "execution_count": 70,
     "metadata": {},
     "output_type": "execute_result"
    }
   ],
   "source": [
    "precios_originales = []\n",
    "\n",
    "for precio in lista_precio_original:\n",
    "     precios_originales.append(precio.text)\n",
    "\n",
    "\n",
    "precios_originales[:4]"
   ]
  },
  {
   "cell_type": "code",
   "execution_count": 45,
   "metadata": {},
   "outputs": [
    {
     "data": {
      "text/plain": [
       "[<span class=\"jsx-2689423372 price\">14.536<!-- -->€</span>,\n",
       " <span class=\"jsx-2689423372 price\">13.627<!-- -->€</span>,\n",
       " <span class=\"jsx-2689423372 price\">10.900<!-- -->€</span>,\n",
       " <span class=\"jsx-2689423372 price\">14.991<!-- -->€</span>]"
      ]
     },
     "execution_count": 45,
     "metadata": {},
     "output_type": "execute_result"
    }
   ],
   "source": [
    "#PRECIO REBAJADO \n",
    "\n",
    "lista_precio_rebajado = sopa_coches.find_all(\"span\", {\"class\": \"jsx-2689423372 price\"})\n",
    "lista_precio_rebajado[:4]"
   ]
  },
  {
   "cell_type": "code",
   "execution_count": 71,
   "metadata": {},
   "outputs": [
    {
     "data": {
      "text/plain": [
       "['14.536€', '13.627€', '10.900€', '14.991€']"
      ]
     },
     "execution_count": 71,
     "metadata": {},
     "output_type": "execute_result"
    }
   ],
   "source": [
    "precios_rebajados = []\n",
    "\n",
    "for precio in lista_precio_rebajado:\n",
    "     precios_rebajados.append(precio.text)\n",
    "\n",
    "\n",
    "precios_rebajados[:4]"
   ]
  },
  {
   "cell_type": "code",
   "execution_count": 99,
   "metadata": {},
   "outputs": [
    {
     "data": {
      "text/plain": [
       "'57.556 km'"
      ]
     },
     "execution_count": 99,
     "metadata": {},
     "output_type": "execute_result"
    }
   ],
   "source": [
    "#KILOMETROS\n",
    "\n",
    "extraccion_kms = sopa_coches.find_all(\"span\", {\"class\": \"jsx-3960002075 detail big\"})\n",
    "kms = extraccion_kms[1].getText()\n",
    "kms\n",
    "\n",
    "\n"
   ]
  },
  {
   "cell_type": "markdown",
   "metadata": {},
   "source": [
    "#MONTAMOS LA ESTUCTURA\n",
    "- Coche\n",
    "- Precio rebajado\n",
    "- Precio original\n",
    "- Kilómetros\n"
   ]
  },
  {
   "cell_type": "code",
   "execution_count": 108,
   "metadata": {},
   "outputs": [],
   "source": [
    "\n",
    "\n",
    "#INFO QUE EXTRAEMOS DE LA WEB \n",
    "def scrape_coches_ocasion(url):\n",
    "    res_coches = requests.get(url)\n",
    "    print(f\"La respuesta a tu petición ha sido de {res_coches.status_code}\")\n",
    "    sopa_coches = BeautifulSoup(res_coches.content, \"html.parser\")\n",
    "\n",
    " \n",
    "    lista_nombres_coche = sopa_coches.find_all(\"h2\")[1:]\n",
    "    lista_precio_rebajado = sopa_coches.find_all(\"span\", {\"class\": \"jsx-2689423372 price\"})\n",
    "    lista_precio_original = sopa_coches.find_all(\"span\", {\"class\": \"jsx-2870186023 priceLast\"})\n",
    "    extraccion_kms = sopa_coches.find_all(\"span\", {\"class\": \"jsx-3960002075 detail big\"})\n",
    "\n",
    "\n",
    "#FOR LOOPS \n",
    "\n",
    "    for nombre in lista_nombres_coche:\n",
    "        diccionario_coches[\"Coche\"].append(nombre.getText())\n",
    "        \n",
    "\n",
    "    for precio in lista_precio_rebajado:\n",
    "        diccionario_coches[\"Precio Rebajado\"].append(precio.getText())\n",
    "        \n",
    "\n",
    "    for precio in lista_precio_original:\n",
    "        diccionario_coches[\"Precio Original\"].append(precio.getText())\n",
    "        \n",
    "    for x in kms:\n",
    "        kms = extraccion_kms[1].getText()\n",
    "        diccionario_coches[\"Kilómetros\"].append(kms)\n",
    "        \n",
    "\n",
    "#¿nos falta añadirlo aqui no? \n",
    "diccionario_coches = {\"Coche\": [], \"Precio Rebajado\": [], \"Precio Original\": [], \"Kilómetros\": []}\n"
   ]
  },
  {
   "cell_type": "code",
   "execution_count": 109,
   "metadata": {},
   "outputs": [
    {
     "data": {
      "text/plain": [
       "{'Coche': [], 'Precio Rebajado': [], 'Precio Original': [], 'Kilómetros': []}"
      ]
     },
     "execution_count": 109,
     "metadata": {},
     "output_type": "execute_result"
    }
   ],
   "source": [
    "diccionario_coches"
   ]
  },
  {
   "cell_type": "code",
   "execution_count": 111,
   "metadata": {},
   "outputs": [],
   "source": [
    "df_coches = pd.DataFrame(res_coches)"
   ]
  },
  {
   "cell_type": "code",
   "execution_count": null,
   "metadata": {},
   "outputs": [],
   "source": []
  },
  {
   "cell_type": "code",
   "execution_count": null,
   "metadata": {},
   "outputs": [],
   "source": []
  }
 ],
 "metadata": {
  "kernelspec": {
   "display_name": "base",
   "language": "python",
   "name": "python3"
  },
  "language_info": {
   "codemirror_mode": {
    "name": "ipython",
    "version": 3
   },
   "file_extension": ".py",
   "mimetype": "text/x-python",
   "name": "python",
   "nbconvert_exporter": "python",
   "pygments_lexer": "ipython3",
   "version": "3.11.5"
  },
  "orig_nbformat": 4
 },
 "nbformat": 4,
 "nbformat_minor": 2
}
