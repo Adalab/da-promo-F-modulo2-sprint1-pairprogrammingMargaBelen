{
 "cells": [
  {
   "cell_type": "markdown",
   "metadata": {},
   "source": [
    "- mantenemos id alumna\n",
    "- separamos en dos columnas = nombre vs apellido\n",
    "- separamos en dos columnas = ciudad vs país \n"
   ]
  },
  {
   "cell_type": "markdown",
   "metadata": {},
   "source": [
    "dividir tablas: \n",
    "\n",
    "1) id_alumna, nombre, apellido, id_ciudad y id_pais\n",
    "2) id_alumna, id_asignatura, notas (id alumna + id asignatura == Key ppal combinada) !!\n",
    "3) id_asignatura, asignatura\n",
    "4) id_pais, nombre de país\n",
    "5) id_ciudad, nombre de ciudad \n",
    "\n",
    "---------------------------\n",
    "1 y 2 enlazadas mediante id alumna\n",
    "2 y 3 enlazadas mendiante id asignatura\n",
    "tablas 4 y 5 enlazadas con la 1 \n",
    "\n",
    "\n",
    "Se cumplen las 3 reglas de normalización: \n",
    "\n",
    "1)Solo una clave primaria por tabla y los datos deben ser atomizados\n",
    "3)Tiene que cumplir la anterior + cada campo NO clave debe ser dependiente de la primary key (relación)\n",
    "3)Las dos anteriores + no debe tener dependencias transitivas entre campos NO clave \n",
    "    (= a que los campos no clave no dependan de otros campos NO clave)"
   ]
  }
 ],
 "metadata": {
  "kernelspec": {
   "display_name": "base",
   "language": "python",
   "name": "python3"
  },
  "language_info": {
   "name": "python",
   "version": "3.11.5"
  },
  "orig_nbformat": 4
 },
 "nbformat": 4,
 "nbformat_minor": 2
}
