{
 "cells": [
  {
   "cell_type": "code",
   "execution_count": 7,
   "metadata": {},
   "outputs": [
    {
     "name": "stdout",
     "output_type": "stream",
     "text": [
      "Requirement already satisfied: requests in /Users/belencurso/Desktop/adalab/modulo2/.conda/lib/python3.11/site-packages (2.31.0)\n",
      "Requirement already satisfied: charset-normalizer<4,>=2 in /Users/belencurso/Desktop/adalab/modulo2/.conda/lib/python3.11/site-packages (from requests) (3.3.1)\n",
      "Requirement already satisfied: idna<4,>=2.5 in /Users/belencurso/Desktop/adalab/modulo2/.conda/lib/python3.11/site-packages (from requests) (3.4)\n",
      "Requirement already satisfied: urllib3<3,>=1.21.1 in /Users/belencurso/Desktop/adalab/modulo2/.conda/lib/python3.11/site-packages (from requests) (2.0.7)\n",
      "Requirement already satisfied: certifi>=2017.4.17 in /Users/belencurso/Desktop/adalab/modulo2/.conda/lib/python3.11/site-packages (from requests) (2023.7.22)\n",
      "Requirement already satisfied: beautifulsoup4 in /Users/belencurso/Desktop/adalab/modulo2/.conda/lib/python3.11/site-packages (4.12.2)\n",
      "Requirement already satisfied: soupsieve>1.2 in /Users/belencurso/Desktop/adalab/modulo2/.conda/lib/python3.11/site-packages (from beautifulsoup4) (2.5)\n"
     ]
    }
   ],
   "source": [
    "!pip install requests\n",
    "!pip install beautifulsoup4\n",
    "\n",
    "from bs4 import BeautifulSoup\n",
    "import requests\n",
    "from selenium import webdriver\n",
    "from webdriver_manager.chrome import ChromeDriverManager\n",
    "from selenium.webdriver.common.keys import Keys\n",
    "from time import sleep"
   ]
  },
  {
   "cell_type": "code",
   "execution_count": 8,
   "metadata": {},
   "outputs": [],
   "source": [
    "#driver.execute_script(\"window.scrollTo(0, Y)\")\n",
    "## la Y suele ser 1080 que suele ser el tamaño de la pantalla de un portatil.\n"
   ]
  },
  {
   "cell_type": "code",
   "execution_count": 20,
   "metadata": {},
   "outputs": [
    {
     "ename": "NoSuchElementException",
     "evalue": "Message: no such element: Unable to locate element: {\"method\":\"css selector\",\"selector\":\"#onetrust-accept-btn-handler\"}\n  (Session info: chrome=118.0.5993.117); For documentation on this error, please visit: https://www.selenium.dev/documentation/webdriver/troubleshooting/errors#no-such-element-exception\nStacktrace:\n0   chromedriver                        0x000000010118c510 chromedriver + 4310288\n1   chromedriver                        0x00000001011844bc chromedriver + 4277436\n2   chromedriver                        0x0000000100db7b6c chromedriver + 293740\n3   chromedriver                        0x0000000100dfd040 chromedriver + 577600\n4   chromedriver                        0x0000000100e37e60 chromedriver + 818784\n5   chromedriver                        0x0000000100df0fd0 chromedriver + 528336\n6   chromedriver                        0x0000000100df1e7c chromedriver + 532092\n7   chromedriver                        0x0000000101152834 chromedriver + 4073524\n8   chromedriver                        0x00000001011567fc chromedriver + 4089852\n9   chromedriver                        0x0000000101156c58 chromedriver + 4090968\n10  chromedriver                        0x000000010115c8f8 chromedriver + 4114680\n11  chromedriver                        0x0000000101157234 chromedriver + 4092468\n12  chromedriver                        0x0000000101131604 chromedriver + 3937796\n13  chromedriver                        0x0000000101173ee8 chromedriver + 4210408\n14  chromedriver                        0x0000000101174064 chromedriver + 4210788\n15  chromedriver                        0x0000000101184134 chromedriver + 4276532\n16  libsystem_pthread.dylib             0x000000018391ffa8 _pthread_start + 148\n17  libsystem_pthread.dylib             0x000000018391ada0 thread_start + 8\n",
     "output_type": "error",
     "traceback": [
      "\u001b[0;31m---------------------------------------------------------------------------\u001b[0m",
      "\u001b[0;31mNoSuchElementException\u001b[0m                    Traceback (most recent call last)",
      "\u001b[1;32m/Users/belencurso/Desktop/adalab/modulo2/da-promo-F-modulo2-sprint1-pairprogrammingMargaBelen/casa_del_libro.ipynb Celda 3\u001b[0m line \u001b[0;36m6\n\u001b[1;32m      <a href='vscode-notebook-cell:/Users/belencurso/Desktop/adalab/modulo2/da-promo-F-modulo2-sprint1-pairprogrammingMargaBelen/casa_del_libro.ipynb#W2sZmlsZQ%3D%3D?line=2'>3</a>\u001b[0m driver\u001b[39m.\u001b[39mget(\u001b[39m\"\u001b[39m\u001b[39mhttps://www.casadellibro.com/\u001b[39m\u001b[39m\"\u001b[39m)\n\u001b[1;32m      <a href='vscode-notebook-cell:/Users/belencurso/Desktop/adalab/modulo2/da-promo-F-modulo2-sprint1-pairprogrammingMargaBelen/casa_del_libro.ipynb#W2sZmlsZQ%3D%3D?line=4'>5</a>\u001b[0m \u001b[39m#Aceptamos las cookies\u001b[39;00m\n\u001b[0;32m----> <a href='vscode-notebook-cell:/Users/belencurso/Desktop/adalab/modulo2/da-promo-F-modulo2-sprint1-pairprogrammingMargaBelen/casa_del_libro.ipynb#W2sZmlsZQ%3D%3D?line=5'>6</a>\u001b[0m driver\u001b[39m.\u001b[39;49mfind_element(\u001b[39m'\u001b[39;49m\u001b[39mcss selector\u001b[39;49m\u001b[39m'\u001b[39;49m,\u001b[39m'\u001b[39;49m\u001b[39m#onetrust-accept-btn-handler\u001b[39;49m\u001b[39m'\u001b[39;49m)\u001b[39m.\u001b[39mclick()\n\u001b[1;32m      <a href='vscode-notebook-cell:/Users/belencurso/Desktop/adalab/modulo2/da-promo-F-modulo2-sprint1-pairprogrammingMargaBelen/casa_del_libro.ipynb#W2sZmlsZQ%3D%3D?line=6'>7</a>\u001b[0m sleep(\u001b[39m2\u001b[39m)\n\u001b[1;32m      <a href='vscode-notebook-cell:/Users/belencurso/Desktop/adalab/modulo2/da-promo-F-modulo2-sprint1-pairprogrammingMargaBelen/casa_del_libro.ipynb#W2sZmlsZQ%3D%3D?line=7'>8</a>\u001b[0m \u001b[39m#Accedemos a Ficcion\u001b[39;00m\n",
      "File \u001b[0;32m~/Desktop/adalab/modulo2/.conda/lib/python3.11/site-packages/selenium/webdriver/remote/webdriver.py:738\u001b[0m, in \u001b[0;36mWebDriver.find_element\u001b[0;34m(self, by, value)\u001b[0m\n\u001b[1;32m    735\u001b[0m     by \u001b[39m=\u001b[39m By\u001b[39m.\u001b[39mCSS_SELECTOR\n\u001b[1;32m    736\u001b[0m     value \u001b[39m=\u001b[39m \u001b[39mf\u001b[39m\u001b[39m'\u001b[39m\u001b[39m[name=\u001b[39m\u001b[39m\"\u001b[39m\u001b[39m{\u001b[39;00mvalue\u001b[39m}\u001b[39;00m\u001b[39m\"\u001b[39m\u001b[39m]\u001b[39m\u001b[39m'\u001b[39m\n\u001b[0;32m--> 738\u001b[0m \u001b[39mreturn\u001b[39;00m \u001b[39mself\u001b[39;49m\u001b[39m.\u001b[39;49mexecute(Command\u001b[39m.\u001b[39;49mFIND_ELEMENT, {\u001b[39m\"\u001b[39;49m\u001b[39musing\u001b[39;49m\u001b[39m\"\u001b[39;49m: by, \u001b[39m\"\u001b[39;49m\u001b[39mvalue\u001b[39;49m\u001b[39m\"\u001b[39;49m: value})[\u001b[39m\"\u001b[39m\u001b[39mvalue\u001b[39m\u001b[39m\"\u001b[39m]\n",
      "File \u001b[0;32m~/Desktop/adalab/modulo2/.conda/lib/python3.11/site-packages/selenium/webdriver/remote/webdriver.py:344\u001b[0m, in \u001b[0;36mWebDriver.execute\u001b[0;34m(self, driver_command, params)\u001b[0m\n\u001b[1;32m    342\u001b[0m response \u001b[39m=\u001b[39m \u001b[39mself\u001b[39m\u001b[39m.\u001b[39mcommand_executor\u001b[39m.\u001b[39mexecute(driver_command, params)\n\u001b[1;32m    343\u001b[0m \u001b[39mif\u001b[39;00m response:\n\u001b[0;32m--> 344\u001b[0m     \u001b[39mself\u001b[39;49m\u001b[39m.\u001b[39;49merror_handler\u001b[39m.\u001b[39;49mcheck_response(response)\n\u001b[1;32m    345\u001b[0m     response[\u001b[39m\"\u001b[39m\u001b[39mvalue\u001b[39m\u001b[39m\"\u001b[39m] \u001b[39m=\u001b[39m \u001b[39mself\u001b[39m\u001b[39m.\u001b[39m_unwrap_value(response\u001b[39m.\u001b[39mget(\u001b[39m\"\u001b[39m\u001b[39mvalue\u001b[39m\u001b[39m\"\u001b[39m, \u001b[39mNone\u001b[39;00m))\n\u001b[1;32m    346\u001b[0m     \u001b[39mreturn\u001b[39;00m response\n",
      "File \u001b[0;32m~/Desktop/adalab/modulo2/.conda/lib/python3.11/site-packages/selenium/webdriver/remote/errorhandler.py:229\u001b[0m, in \u001b[0;36mErrorHandler.check_response\u001b[0;34m(self, response)\u001b[0m\n\u001b[1;32m    227\u001b[0m         alert_text \u001b[39m=\u001b[39m value[\u001b[39m\"\u001b[39m\u001b[39malert\u001b[39m\u001b[39m\"\u001b[39m]\u001b[39m.\u001b[39mget(\u001b[39m\"\u001b[39m\u001b[39mtext\u001b[39m\u001b[39m\"\u001b[39m)\n\u001b[1;32m    228\u001b[0m     \u001b[39mraise\u001b[39;00m exception_class(message, screen, stacktrace, alert_text)  \u001b[39m# type: ignore[call-arg]  # mypy is not smart enough here\u001b[39;00m\n\u001b[0;32m--> 229\u001b[0m \u001b[39mraise\u001b[39;00m exception_class(message, screen, stacktrace)\n",
      "\u001b[0;31mNoSuchElementException\u001b[0m: Message: no such element: Unable to locate element: {\"method\":\"css selector\",\"selector\":\"#onetrust-accept-btn-handler\"}\n  (Session info: chrome=118.0.5993.117); For documentation on this error, please visit: https://www.selenium.dev/documentation/webdriver/troubleshooting/errors#no-such-element-exception\nStacktrace:\n0   chromedriver                        0x000000010118c510 chromedriver + 4310288\n1   chromedriver                        0x00000001011844bc chromedriver + 4277436\n2   chromedriver                        0x0000000100db7b6c chromedriver + 293740\n3   chromedriver                        0x0000000100dfd040 chromedriver + 577600\n4   chromedriver                        0x0000000100e37e60 chromedriver + 818784\n5   chromedriver                        0x0000000100df0fd0 chromedriver + 528336\n6   chromedriver                        0x0000000100df1e7c chromedriver + 532092\n7   chromedriver                        0x0000000101152834 chromedriver + 4073524\n8   chromedriver                        0x00000001011567fc chromedriver + 4089852\n9   chromedriver                        0x0000000101156c58 chromedriver + 4090968\n10  chromedriver                        0x000000010115c8f8 chromedriver + 4114680\n11  chromedriver                        0x0000000101157234 chromedriver + 4092468\n12  chromedriver                        0x0000000101131604 chromedriver + 3937796\n13  chromedriver                        0x0000000101173ee8 chromedriver + 4210408\n14  chromedriver                        0x0000000101174064 chromedriver + 4210788\n15  chromedriver                        0x0000000101184134 chromedriver + 4276532\n16  libsystem_pthread.dylib             0x000000018391ffa8 _pthread_start + 148\n17  libsystem_pthread.dylib             0x000000018391ada0 thread_start + 8\n"
     ]
    }
   ],
   "source": [
    "driver = webdriver.Chrome()\n",
    "driver.maximize_window()\n",
    "driver.get(\"https://www.casadellibro.com/\")\n",
    "\n",
    "#Aceptamos las cookies\n",
    "driver.find_element('css selector','#onetrust-accept-btn-handler').click()\n",
    "sleep(2)\n",
    "#Accedemos a Ficcion\n",
    "driver.find_element('css selector','#app > div.v-application--wrap > div.when-mobile > div.cabecera.desktop > div.bottom-row > div > div > div:nth-child(2) > a').click()\n",
    "sleep(2)\n",
    "driver.execute_script(\"window.scrollTo(0, 700)\")\n",
    "\n",
    "diccionario_resultados = {\"titulo\": [], \"autor\": [], \"precio\": [],\"editorial\": [],\"idioma\": [],\"num_paginas\": []}\n",
    "\n",
    "#for page in range(1,6):\n",
    "    #for libro in range(1,21):\n",
    "driver.find_element('css selector','#buscadorNF > div.col-md-9.col-12 > div > div.grid-view.mt-4 > div:nth-child(6) > a > div > img').click()\n",
    "        \n",
    "        #informacion de cada libro\n",
    "titulo = driver.find_element('css selector','#app > div.v-application--wrap > main > div > div > div > div:nth-child(3) > div > div.col-md-5.order-lg-2.col-12.order-1 > div > h1').text\n",
    "autor = driver.find_element('css selector','#app > div.v-application--wrap > main > div > div > div > div:nth-child(3) > div > div.col-md-5.order-lg-2.col-12.order-1 > div > div.text-h5.d-flex.flex-wrap.author.mb-2.justify-center.justify-sm-start > div > a > span:nth-child(1)').text\n",
    "precio = driver.find_element('css selector','#app > div.v-application--wrap > main > div > div > div > div:nth-child(3) > div > div.border-left.col-md-4.col-12.order-3 > div > div:nth-child(3) > div.col.col-8 > strong').text\n",
    "editorial = driver.find_element('css selector','#app > div.v-application--wrap > main > div > div > div > div:nth-child(7) > div > div:nth-child(2) > div > div:nth-child(2) > div:nth-child(2) > span').text\n",
    "paginas = driver.find_element('css selector','#app > div.v-application--wrap > main > div > div > div > div:nth-child(7) > div > div:nth-child(2) > div > div:nth-child(1) > div:nth-child(2) > span').text\n",
    "idioma = driver.find_element('css selector','#app > div.v-application--wrap > main > div > div > div > div:nth-child(7) > div > div:nth-child(2) > div > div:nth-child(3) > div:nth-child(2) > span').text\n",
    "print(autor,titulo,precio,editorial,paginas,idioma)\n",
    "\n",
    "\n",
    "\n"
   ]
  },
  {
   "cell_type": "code",
   "execution_count": 10,
   "metadata": {},
   "outputs": [],
   "source": [
    "#buscadorNF > div.col-md-9.col-12 > div > div.grid-view.mt-4 > div:nth-child(1)\n",
    "#buscadorNF > div.col-md-9.col-12 > div > div.grid-view.mt-4 > div:nth-child(1)"
   ]
  },
  {
   "cell_type": "code",
   "execution_count": 11,
   "metadata": {},
   "outputs": [],
   "source": [
    "# # Inicializar un diccionario para almacenar los resultados\n",
    "#     diccionario_resultados = {\"nombre\": [], \"precio\": [], \"puntuacion\": []}\n",
    "\n",
    "#     # Iterar sobre los primeros 5 resultados de búsqueda\n",
    "#     for i in range(1, 6):\n",
    "#         # Hacer clic en un resultado específico\n",
    "#         driver.find_element(\"css selector\", f\"#app > main > div.list-body.svelte-hjzkmc > section.listing-section.svelte-hjzkmc > div > div > div:nth-child({i}) > div.product-block-top-main.vtmn-flex.vtmn-flex-col.vtmn-w-full.vtmn-items-center\").click()\n",
    "\n",
    "#         # Recopilar el nombre del producto\n",
    "#         nombre = driver.find_element(\"css selector\", \"#app > main > article > div > section > h1\").text\n",
    "#         diccionario_resultados[\"nombre\"].append(nombre)\n",
    "\n",
    "#         # Recopilar el precio del producto\n",
    "#         precio = driver.find_element(\"css selector\", \"#app > main > article > div > section > div.price-presentation.vtmn-flex.vtmn-flex-col.vtmn-items-start.vtmn-leading-tight.vtmn-mt-2.svelte-11as6sf > div.vtmn-flex.vtmn-flex-col.vtmn-items-start.vtmn-items-stretch.svelte-11as6sf > div:nth-child(1) > div > span\").text\n",
    "#         diccionario_resultados[\"precio\"].append(precio)\n",
    "\n",
    "#         # Recopilar la puntuación del producto\n",
    "#         puntuacion = driver.find_element(\"css selector\", \"#app > main > article > div > section > div.vtmn-relative.vtmn-bg-background-primary.vtmn-px-3 > button > div > span.vtmn-rating_comment--primary\").text\n",
    "#         diccionario_resultados[\"puntuacion\"].append(puntuacion)\n",
    "\n",
    "#         # Navegar de regreso a los resultados de búsqueda\n",
    "#         driver.back()\n",
    "\n",
    "#     # Cerrar el navegador\n",
    "#     driver.close()"
   ]
  }
 ],
 "metadata": {
  "kernelspec": {
   "display_name": "Python 3",
   "language": "python",
   "name": "python3"
  },
  "language_info": {
   "codemirror_mode": {
    "name": "ipython",
    "version": 3
   },
   "file_extension": ".py",
   "mimetype": "text/x-python",
   "name": "python",
   "nbconvert_exporter": "python",
   "pygments_lexer": "ipython3",
   "version": "3.11.5"
  }
 },
 "nbformat": 4,
 "nbformat_minor": 2
}
