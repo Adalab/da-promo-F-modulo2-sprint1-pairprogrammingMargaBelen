{
 "cells": [
  {
   "cell_type": "markdown",
   "metadata": {},
   "source": [
    "Objetivo del Ejercicio: \n",
    "- El objetivo de este ejercicio es que las alumnas utilicen Selenium en Python para automatizar la extracción de datos de los libros de ficción en el sitio web de La Casa del Libro. \n",
    "- Deberán obtener información clave de los libros, incluyendo título, autor, precio, editorial, idioma y número de páginas."
   ]
  },
  {
   "cell_type": "markdown",
   "metadata": {},
   "source": [
    "Acceso a la Página de La Casa del Libro: \n",
    "- Utilizando Selenium, deberás automatizar el proceso de navegación hacia la página de libros de ficción en el sitio web de La Casa del Libro.\n",
    "\n",
    "Extracción de Datos de las 5 Primeras Páginas: \n",
    "- Una vez en la página de libros de ficción, debes programar su script para que recorra las 5 primeras páginas de libros, extrayendo los siguientes datos de cada libro:\n",
    "- Título del libro.\n",
    "- Autor(es) del libro.\n",
    "- Precio del libro.\n",
    "- Editorial del libro.\n",
    "- Idioma del libro.\n",
    "- Número de páginas del libro.\n",
    "Almacenamiento de Datos: Los datos extraídos deben almacenarse en un DataFrame."
   ]
  },
  {
   "cell_type": "code",
   "execution_count": 7,
   "metadata": {},
   "outputs": [],
   "source": [
    "from bs4 import BeautifulSoup\n",
    "import requests\n",
    "from selenium import webdriver\n",
    "from webdriver_manager.chrome import ChromeDriverManager\n",
    "from selenium.webdriver.common.keys import Keys\n",
    "from time import sleep"
   ]
  },
  {
   "cell_type": "code",
   "execution_count": 8,
   "metadata": {},
   "outputs": [
    {
     "ename": "NoSuchElementException",
     "evalue": "Message: no such element: Unable to locate element: {\"method\":\"css selector\",\"selector\":\"#buscadorNF > div.col-md-9.col-12 > div > div.grid-view.mt-4 > div:nth-child(1) > div:nth-child(3) > p\"}\n  (Session info: chrome=118.0.5993.117); For documentation on this error, please visit: https://www.selenium.dev/documentation/webdriver/troubleshooting/errors#no-such-element-exception\nStacktrace:\n0   chromedriver                        0x00000001028e9e08 chromedriver + 5025288\n1   chromedriver                        0x00000001028e0c23 chromedriver + 4987939\n2   chromedriver                        0x0000000102482e67 chromedriver + 409191\n3   chromedriver                        0x00000001024d21b9 chromedriver + 733625\n4   chromedriver                        0x00000001024d2371 chromedriver + 734065\n5   chromedriver                        0x0000000102518194 chromedriver + 1020308\n6   chromedriver                        0x00000001024f950d chromedriver + 894221\n7   chromedriver                        0x0000000102515571 chromedriver + 1009009\n8   chromedriver                        0x00000001024f92b3 chromedriver + 893619\n9   chromedriver                        0x00000001024c3eb9 chromedriver + 675513\n10  chromedriver                        0x00000001024c50ee chromedriver + 680174\n11  chromedriver                        0x00000001028ab819 chromedriver + 4769817\n12  chromedriver                        0x00000001028b0893 chromedriver + 4790419\n13  chromedriver                        0x00000001028b766e chromedriver + 4818542\n14  chromedriver                        0x00000001028b15bd chromedriver + 4793789\n15  chromedriver                        0x000000010288398c chromedriver + 4606348\n16  chromedriver                        0x00000001028cfb78 chromedriver + 4918136\n17  chromedriver                        0x00000001028cfd30 chromedriver + 4918576\n18  chromedriver                        0x00000001028e085e chromedriver + 4986974\n19  libsystem_pthread.dylib             0x00007ff8110861d3 _pthread_start + 125\n20  libsystem_pthread.dylib             0x00007ff811081bd3 thread_start + 15\n",
     "output_type": "error",
     "traceback": [
      "\u001b[0;31m---------------------------------------------------------------------------\u001b[0m",
      "\u001b[0;31mNoSuchElementException\u001b[0m                    Traceback (most recent call last)",
      "\u001b[1;32m/Users/margaritaobrador/Adalab/Module-2/pp-module2/da-promo-F-modulo2-sprint1-pairprogrammingMargaBelen/3_pp_Selenium.ipynb Cell 4\u001b[0m line \u001b[0;36m1\n\u001b[1;32m     <a href='vscode-notebook-cell:/Users/margaritaobrador/Adalab/Module-2/pp-module2/da-promo-F-modulo2-sprint1-pairprogrammingMargaBelen/3_pp_Selenium.ipynb#W3sZmlsZQ%3D%3D?line=13'>14</a>\u001b[0m driver\u001b[39m.\u001b[39mfind_element(\u001b[39m\"\u001b[39m\u001b[39mcss selector\u001b[39m\u001b[39m\"\u001b[39m, \u001b[39m\"\u001b[39m\u001b[39m#app > div.v-application--wrap > div.when-mobile > div.cabecera.desktop > div.bottom-row > div > div > div:nth-child(2) > a\u001b[39m\u001b[39m\"\u001b[39m)\u001b[39m.\u001b[39mclick()\n\u001b[1;32m     <a href='vscode-notebook-cell:/Users/margaritaobrador/Adalab/Module-2/pp-module2/da-promo-F-modulo2-sprint1-pairprogrammingMargaBelen/3_pp_Selenium.ipynb#W3sZmlsZQ%3D%3D?line=15'>16</a>\u001b[0m \u001b[39m#acceder al primer libro: \u001b[39;00m\n\u001b[0;32m---> <a href='vscode-notebook-cell:/Users/margaritaobrador/Adalab/Module-2/pp-module2/da-promo-F-modulo2-sprint1-pairprogrammingMargaBelen/3_pp_Selenium.ipynb#W3sZmlsZQ%3D%3D?line=16'>17</a>\u001b[0m driver\u001b[39m.\u001b[39mfind_element(\u001b[39m\"\u001b[39m\u001b[39mcss selector\u001b[39m\u001b[39m\"\u001b[39m, \u001b[39m\"\u001b[39m\u001b[39m#buscadorNF > div.col-md-9.col-12 > div > div.grid-view.mt-4 > div:nth-child(1) > div:nth-child(3) > p\u001b[39m\u001b[39m\"\u001b[39m)\u001b[39m.\u001b[39mclick()\n",
      "File \u001b[0;32m~/anaconda3/lib/python3.11/site-packages/selenium/webdriver/remote/webdriver.py:738\u001b[0m, in \u001b[0;36mWebDriver.find_element\u001b[0;34m(self, by, value)\u001b[0m\n\u001b[1;32m    735\u001b[0m     by \u001b[39m=\u001b[39m By\u001b[39m.\u001b[39mCSS_SELECTOR\n\u001b[1;32m    736\u001b[0m     value \u001b[39m=\u001b[39m \u001b[39mf\u001b[39m\u001b[39m'\u001b[39m\u001b[39m[name=\u001b[39m\u001b[39m\"\u001b[39m\u001b[39m{\u001b[39;00mvalue\u001b[39m}\u001b[39;00m\u001b[39m\"\u001b[39m\u001b[39m]\u001b[39m\u001b[39m'\u001b[39m\n\u001b[0;32m--> 738\u001b[0m \u001b[39mreturn\u001b[39;00m \u001b[39mself\u001b[39m\u001b[39m.\u001b[39mexecute(Command\u001b[39m.\u001b[39mFIND_ELEMENT, {\u001b[39m\"\u001b[39m\u001b[39musing\u001b[39m\u001b[39m\"\u001b[39m: by, \u001b[39m\"\u001b[39m\u001b[39mvalue\u001b[39m\u001b[39m\"\u001b[39m: value})[\u001b[39m\"\u001b[39m\u001b[39mvalue\u001b[39m\u001b[39m\"\u001b[39m]\n",
      "File \u001b[0;32m~/anaconda3/lib/python3.11/site-packages/selenium/webdriver/remote/webdriver.py:344\u001b[0m, in \u001b[0;36mWebDriver.execute\u001b[0;34m(self, driver_command, params)\u001b[0m\n\u001b[1;32m    342\u001b[0m response \u001b[39m=\u001b[39m \u001b[39mself\u001b[39m\u001b[39m.\u001b[39mcommand_executor\u001b[39m.\u001b[39mexecute(driver_command, params)\n\u001b[1;32m    343\u001b[0m \u001b[39mif\u001b[39;00m response:\n\u001b[0;32m--> 344\u001b[0m     \u001b[39mself\u001b[39m\u001b[39m.\u001b[39merror_handler\u001b[39m.\u001b[39mcheck_response(response)\n\u001b[1;32m    345\u001b[0m     response[\u001b[39m\"\u001b[39m\u001b[39mvalue\u001b[39m\u001b[39m\"\u001b[39m] \u001b[39m=\u001b[39m \u001b[39mself\u001b[39m\u001b[39m.\u001b[39m_unwrap_value(response\u001b[39m.\u001b[39mget(\u001b[39m\"\u001b[39m\u001b[39mvalue\u001b[39m\u001b[39m\"\u001b[39m, \u001b[39mNone\u001b[39;00m))\n\u001b[1;32m    346\u001b[0m     \u001b[39mreturn\u001b[39;00m response\n",
      "File \u001b[0;32m~/anaconda3/lib/python3.11/site-packages/selenium/webdriver/remote/errorhandler.py:229\u001b[0m, in \u001b[0;36mErrorHandler.check_response\u001b[0;34m(self, response)\u001b[0m\n\u001b[1;32m    227\u001b[0m         alert_text \u001b[39m=\u001b[39m value[\u001b[39m\"\u001b[39m\u001b[39malert\u001b[39m\u001b[39m\"\u001b[39m]\u001b[39m.\u001b[39mget(\u001b[39m\"\u001b[39m\u001b[39mtext\u001b[39m\u001b[39m\"\u001b[39m)\n\u001b[1;32m    228\u001b[0m     \u001b[39mraise\u001b[39;00m exception_class(message, screen, stacktrace, alert_text)  \u001b[39m# type: ignore[call-arg]  # mypy is not smart enough here\u001b[39;00m\n\u001b[0;32m--> 229\u001b[0m \u001b[39mraise\u001b[39;00m exception_class(message, screen, stacktrace)\n",
      "\u001b[0;31mNoSuchElementException\u001b[0m: Message: no such element: Unable to locate element: {\"method\":\"css selector\",\"selector\":\"#buscadorNF > div.col-md-9.col-12 > div > div.grid-view.mt-4 > div:nth-child(1) > div:nth-child(3) > p\"}\n  (Session info: chrome=118.0.5993.117); For documentation on this error, please visit: https://www.selenium.dev/documentation/webdriver/troubleshooting/errors#no-such-element-exception\nStacktrace:\n0   chromedriver                        0x00000001028e9e08 chromedriver + 5025288\n1   chromedriver                        0x00000001028e0c23 chromedriver + 4987939\n2   chromedriver                        0x0000000102482e67 chromedriver + 409191\n3   chromedriver                        0x00000001024d21b9 chromedriver + 733625\n4   chromedriver                        0x00000001024d2371 chromedriver + 734065\n5   chromedriver                        0x0000000102518194 chromedriver + 1020308\n6   chromedriver                        0x00000001024f950d chromedriver + 894221\n7   chromedriver                        0x0000000102515571 chromedriver + 1009009\n8   chromedriver                        0x00000001024f92b3 chromedriver + 893619\n9   chromedriver                        0x00000001024c3eb9 chromedriver + 675513\n10  chromedriver                        0x00000001024c50ee chromedriver + 680174\n11  chromedriver                        0x00000001028ab819 chromedriver + 4769817\n12  chromedriver                        0x00000001028b0893 chromedriver + 4790419\n13  chromedriver                        0x00000001028b766e chromedriver + 4818542\n14  chromedriver                        0x00000001028b15bd chromedriver + 4793789\n15  chromedriver                        0x000000010288398c chromedriver + 4606348\n16  chromedriver                        0x00000001028cfb78 chromedriver + 4918136\n17  chromedriver                        0x00000001028cfd30 chromedriver + 4918576\n18  chromedriver                        0x00000001028e085e chromedriver + 4986974\n19  libsystem_pthread.dylib             0x00007ff8110861d3 _pthread_start + 125\n20  libsystem_pthread.dylib             0x00007ff811081bd3 thread_start + 15\n"
     ]
    }
   ],
   "source": [
    "#inicializar driver de Chrome \n",
    "driver = webdriver.Chrome()\n",
    "\n",
    "#maximixar ventana\n",
    "driver.maximize_window()\n",
    "\n",
    "#abrir la web\n",
    "driver.get(\"https://www.casadellibro.com/\")\n",
    "\n",
    "sleep(2) #aceptar cookies\n",
    "driver.find_element(\"css selector\", \"#onetrust-accept-btn-handler\").click()\n",
    "\n",
    "sleep(2) #seleccionar galería de ficción\n",
    "driver.find_element(\"css selector\", \"#app > div.v-application--wrap > div.when-mobile > div.cabecera.desktop > div.bottom-row > div > div > div:nth-child(2) > a\").click()\n",
    "\n",
    "#acceder al primer libro: \n",
    "driver.find_element(\"css selector\", \"#buscadorNF > div.col-md-9.col-12 > div > div.grid-view.mt-4 > div:nth-child(1) > div:nth-child(3) > p\").click()"
   ]
  }
 ],
 "metadata": {
  "kernelspec": {
   "display_name": "base",
   "language": "python",
   "name": "python3"
  },
  "language_info": {
   "codemirror_mode": {
    "name": "ipython",
    "version": 3
   },
   "file_extension": ".py",
   "mimetype": "text/x-python",
   "name": "python",
   "nbconvert_exporter": "python",
   "pygments_lexer": "ipython3",
   "version": "3.11.5"
  },
  "orig_nbformat": 4
 },
 "nbformat": 4,
 "nbformat_minor": 2
}
