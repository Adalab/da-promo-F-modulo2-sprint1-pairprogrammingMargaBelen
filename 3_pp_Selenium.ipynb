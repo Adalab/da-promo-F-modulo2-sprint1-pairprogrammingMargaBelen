{
 "cells": [
  {
   "cell_type": "markdown",
   "metadata": {},
   "source": [
    "Objetivo del Ejercicio: \n",
    "- El objetivo de este ejercicio es que las alumnas utilicen Selenium en Python para automatizar la extracción de datos de los libros de ficción en el sitio web de La Casa del Libro. \n",
    "- Deberán obtener información clave de los libros, incluyendo título, autor, precio, editorial, idioma y número de páginas."
   ]
  },
  {
   "cell_type": "markdown",
   "metadata": {},
   "source": [
    "Acceso a la Página de La Casa del Libro: \n",
    "- Utilizando Selenium, deberás automatizar el proceso de navegación hacia la página de libros de ficción en el sitio web de La Casa del Libro.\n",
    "\n",
    "Extracción de Datos de las 5 Primeras Páginas: \n",
    "- Una vez en la página de libros de ficción, debes programar su script para que recorra las 5 primeras páginas de libros, extrayendo los siguientes datos de cada libro:\n",
    "- Título del libro.\n",
    "- Autor(es) del libro.\n",
    "- Precio del libro.\n",
    "- Editorial del libro.\n",
    "- Idioma del libro.\n",
    "- Número de páginas del libro.\n",
    "Almacenamiento de Datos: Los datos extraídos deben almacenarse en un DataFrame."
   ]
  },
  {
   "cell_type": "code",
   "execution_count": 58,
   "metadata": {},
   "outputs": [],
   "source": [
    "from bs4 import BeautifulSoup\n",
    "import requests\n",
    "from selenium import webdriver\n",
    "from webdriver_manager.chrome import ChromeDriverManager\n",
    "from selenium.webdriver.common.keys import Keys\n",
    "from time import sleep"
   ]
  },
  {
   "cell_type": "code",
   "execution_count": 59,
   "metadata": {},
   "outputs": [],
   "source": [
    "# #inicializar driver de Chrome \n",
    "# driver = webdriver.Chrome()\n",
    "\n",
    "# #maximixar ventana\n",
    "# driver.maximize_window()\n",
    "\n",
    "# #abrir la web\n",
    "# driver.get(\"https://www.casadellibro.com/\")\n",
    "\n",
    "# sleep(2) #aceptar cookies\n",
    "# driver.find_element(\"css selector\", \"#onetrust-accept-btn-handler\").click()\n",
    "\n",
    "# sleep(2) #seleccionar galería de ficción\n",
    "# driver.find_element(\"css selector\", \"#app > div.v-application--wrap > div.when-mobile > div.cabecera.desktop > div.bottom-row > div > div > div:nth-child(2) > a\").click()\n",
    "# sleep(2)\n",
    "# driver.execute_script(\"window.scrollTo(0, 1000)\")\n",
    "#acceder al primer libro: \n",
    "\n",
    "# for libro in libros: \n",
    "# driver.find_element(\"css selector\", \"#buscadorNF > div.col-md-9.col-12 > div > div.grid-view.mt-4 > div:nth-child(1)\").click()\n",
    "# driver.find_element(\"css selector\", \"#buscadorNF > div.col-md-9.col-12 > div > div.grid-view.mt-4 > div:nth-child(2)\")\n"
   ]
  },
  {
   "cell_type": "code",
   "execution_count": 60,
   "metadata": {},
   "outputs": [],
   "source": [
    "# driver = webdriver.Chrome()\n",
    "# driver.maximize_window()\n",
    "# driver.get(\"https://www.casadellibro.com/\")\n",
    "\n",
    "# #Aceptamos las cookies\n",
    "# driver.find_element('css selector','#onetrust-accept-btn-handler').click()\n",
    "# sleep(2)\n",
    "# #Accedemos a Ficcion\n",
    "# driver.find_element('css selector','#app > div.v-application--wrap > div.when-mobile > div.cabecera.desktop > div.bottom-row > div > div > div:nth-child(2) > a').click()\n"
   ]
  },
  {
   "cell_type": "code",
   "execution_count": 61,
   "metadata": {},
   "outputs": [
    {
     "name": "stdout",
     "output_type": "stream",
     "text": [
      "abro navegador\n",
      "maximizo ventana\n",
      "entro a la casa del libro\n",
      "acepto cookies\n",
      "voy a ficción\n",
      "hago scroll\n",
      "accedo al libro\n",
      "sacando titulo\n",
      "sacando autor\n",
      "sacando precio\n",
      "sacando editorial\n",
      "sacando páginas\n",
      "sacando idioma\n"
     ]
    }
   ],
   "source": [
    "driver = webdriver.Chrome()\n",
    "print(\"abro navegador\")\n",
    "driver.maximize_window()\n",
    "print(\"maximizo ventana\")\n",
    "driver.get(\"https://www.casadellibro.com/\")\n",
    "print(\"entro a la casa del libro\")\n",
    "#Aceptamos las cookies\n",
    "driver.find_element('css selector','#onetrust-accept-btn-handler').click()\n",
    "print(\"acepto cookies\")\n",
    "sleep(2)\n",
    "#Accedemos a Ficcion\n",
    "driver.find_element('css selector','#app > div.v-application--wrap > div.when-mobile > div.cabecera.desktop > div.bottom-row > div > div > div:nth-child(2) > a').click()\n",
    "print(\"voy a ficción\")\n",
    "sleep(2)\n",
    "driver.execute_script(\"window.scrollTo(0, 1200)\")\n",
    "print(\"hago scroll\")\n",
    "diccionario_resultados = {\"titulo\": [], \"autor\": [], \"precio\": [],\"editorial\": [],\"idioma\": [],\"num_paginas\": []}\n",
    "#for page in range(1,6):\n",
    "    #for libro in range(1,21):\n",
    "\n",
    "#HAGO CLICK EN LA IMG DEL PRIMER LIBRO \n",
    "driver.find_element('css selector','#buscadorNF > div.col-md-9.col-12 > div > div.grid-view.mt-4 > div:nth-child(4) > a > div > img').click()\n",
    "print(\"accedo al libro\")\n",
    "#informacion de cada libro\n",
    "sleep(2)\n",
    "titulo = driver.find_element('css selector','#app > div.v-application--wrap > main > div > div > div > div:nth-child(3) > div > div.col-md-5.order-lg-2.col-12.order-1 > div > h1').text\n",
    "print(\"sacando titulo\")\n",
    "sleep(2)\n",
    "autor = driver.find_element('css selector','#app > div.v-application--wrap > main > div > div > div > div:nth-child(3) > div > div.col-md-5.order-lg-2.col-12.order-1 > div > div.text-h5.d-flex.flex-wrap.author.mb-2.justify-center.justify-sm-start > div > a > span:nth-child(1)').text\n",
    "print(\"sacando autor\")\n",
    "sleep(2)\n",
    "precio = driver.find_element('css selector','#app > div.v-application--wrap > main > div > div > div > div:nth-child(3) > div > div.border-left.col-md-4.col-12.order-3 > div > div:nth-child(3) > div.col.col-8 > strong').text\n",
    "print(\"sacando precio\")\n",
    "sleep(2)\n",
    "editorial = driver.find_element('css selector','#app > div.v-application--wrap > main > div > div > div > div:nth-child(7) > div > div:nth-child(2) > div > div:nth-child(2) > div:nth-child(2) > span').text\n",
    "print(\"sacando editorial\")\n",
    "sleep(2)\n",
    "paginas = driver.find_element('css selector','#app > div.v-application--wrap > main > div > div > div > div:nth-child(7) > div > div:nth-child(2) > div > div:nth-child(1) > div:nth-child(2) > span').text\n",
    "print(\"sacando páginas\")\n",
    "sleep(2)\n",
    "idioma = driver.find_element('css selector','#app > div.v-application--wrap > main > div > div > div > div:nth-child(7) > div > div:nth-child(2) > div > div:nth-child(3) > div:nth-child(2) > span').text\n",
    "print(\"sacando idioma\")\n",
    "sleep(2)\n"
   ]
  },
  {
   "cell_type": "code",
   "execution_count": 62,
   "metadata": {},
   "outputs": [
    {
     "name": "stdout",
     "output_type": "stream",
     "text": [
      "Autor: JUAN GOMEZ JURADO\n",
      "Título: TODO VUELVE (SERIE TODO ARDE 2)\n",
      "Precio: 21,75 €\n",
      "Editorial: EDICIONES B\n",
      "Páginas: 608\n",
      "Idioma: CASTELLANO\n"
     ]
    }
   ],
   "source": [
    "print(f\"Autor: {autor}\")\n",
    "print(f\"Título: {titulo}\")\n",
    "print(f\"Precio: {precio}\")\n",
    "print(f\"Editorial: {editorial}\")\n",
    "print(f\"Páginas: {paginas}\")\n",
    "print(f\"Idioma: {idioma}\")\n"
   ]
  }
 ],
 "metadata": {
  "kernelspec": {
   "display_name": "base",
   "language": "python",
   "name": "python3"
  },
  "language_info": {
   "codemirror_mode": {
    "name": "ipython",
    "version": 3
   },
   "file_extension": ".py",
   "mimetype": "text/x-python",
   "name": "python",
   "nbconvert_exporter": "python",
   "pygments_lexer": "ipython3",
   "version": "3.11.5"
  },
  "orig_nbformat": 4
 },
 "nbformat": 4,
 "nbformat_minor": 2
}
