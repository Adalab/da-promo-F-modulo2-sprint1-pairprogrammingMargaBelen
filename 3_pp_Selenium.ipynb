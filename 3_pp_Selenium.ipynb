{
 "cells": [
  {
   "cell_type": "markdown",
   "metadata": {},
   "source": [
    "Objetivo del Ejercicio: \n",
    "- El objetivo de este ejercicio es que las alumnas utilicen Selenium en Python para automatizar la extracción de datos de los libros de ficción en el sitio web de La Casa del Libro. \n",
    "- Deberán obtener información clave de los libros, incluyendo título, autor, precio, editorial, idioma y número de páginas."
   ]
  },
  {
   "cell_type": "markdown",
   "metadata": {},
   "source": [
    "Acceso a la Página de La Casa del Libro: \n",
    "- Utilizando Selenium, deberás automatizar el proceso de navegación hacia la página de libros de ficción en el sitio web de La Casa del Libro.\n",
    "\n",
    "Extracción de Datos de las 5 Primeras Páginas: \n",
    "- Una vez en la página de libros de ficción, debes programar su script para que recorra las 5 primeras páginas de libros, extrayendo los siguientes datos de cada libro:\n",
    "- Título del libro.\n",
    "- Autor(es) del libro.\n",
    "- Precio del libro.\n",
    "- Editorial del libro.\n",
    "- Idioma del libro.\n",
    "- Número de páginas del libro.\n",
    "Almacenamiento de Datos: Los datos extraídos deben almacenarse en un DataFrame."
   ]
  },
  {
   "cell_type": "code",
   "execution_count": null,
   "metadata": {},
   "outputs": [],
   "source": [
    "from bs4 import BeautifulSoup\n",
    "import requests\n",
    "from selenium import webdriver\n",
    "from webdriver_manager.chrome import ChromeDriverManager\n",
    "from selenium.webdriver.common.keys import Keys\n",
    "from time import sleep"
   ]
  },
  {
   "cell_type": "code",
   "execution_count": null,
   "metadata": {},
   "outputs": [],
   "source": [
    "#inicializar driver de Chrome \n",
    "driver = webdriver.Chrome()\n",
    "\n",
    "#maximixar ventana\n",
    "driver.maximize_window()\n",
    "\n",
    "#abrir la web\n",
    "driver.get(\"https://www.casadellibro.com/\")\n",
    "\n",
    "sleep(2) #aceptar cookies\n",
    "driver.find_element(\"css selector\", \"#onetrust-accept-btn-handler\").click()\n",
    "\n",
    "sleep(2) #seleccionar galería de ficción\n",
    "driver.find_element(\"css selector\", \"#app > div.v-application--wrap > div.when-mobile > div.cabecera.desktop > div.bottom-row > div > div > div:nth-child(2) > a\").click()\n",
    "\n",
    "#acceder al primer libro: \n",
    "driver.find_element(\"css selector\", \"#buscadorNF > div.col-md-9.col-12 > div > div.grid-view.mt-4 > div:nth-child(1) > div:nth-child(3) > p\").click()"
   ]
  }
 ],
 "metadata": {
  "kernelspec": {
   "display_name": "base",
   "language": "python",
   "name": "python3"
  },
  "language_info": {
   "codemirror_mode": {
    "name": "ipython",
    "version": 3
   },
   "file_extension": ".py",
   "mimetype": "text/x-python",
   "name": "python",
   "nbconvert_exporter": "python",
   "pygments_lexer": "ipython3",
   "version": "3.11.5"
  },
  "orig_nbformat": 4
 },
 "nbformat": 4,
 "nbformat_minor": 2
}
